{
 "cells": [
  {
   "cell_type": "markdown",
   "metadata": {
    "id": "TK7oX5qdEEYr"
   },
   "source": [
    "<p style=\"align: center;\"><img align=center src=\"https://s8.hostingkartinok.com/uploads/images/2018/08/308b49fcfbc619d629fe4604bceb67ac.jpg\" width=500 height=450/></p>\n",
    "\n",
    "<h3 style=\"text-align: center;\"><b>Школа глубокого обучения ФПМИ МФТИ</b></h3>\n",
    "\n",
    "<h3 style=\"text-align: center;\"><b>Домашнее задание. Продвинутый поток. Осень 2022</b></h3>"
   ]
  },
  {
   "cell_type": "markdown",
   "metadata": {
    "id": "zlB-owfaEEYs"
   },
   "source": [
    "**Ник на kaggle: Илья Целковой**\n",
    "\n",
    "**User Name: ilyatselkovoy**"
   ]
  },
  {
   "cell_type": "markdown",
   "metadata": {
    "id": "Tu_JvqcBEN8Y"
   },
   "source": [
    "# Как проверять?\n",
    "\n",
    "Ставьте полный балл, если выполнены все рекомендации или сделано что-то более интересное и сложное. За каждый отсустствующий пункт из рекомендация снижайте 1 балл."
   ]
  },
  {
   "cell_type": "markdown",
   "metadata": {
    "id": "IrDNNkNTEEYz"
   },
   "source": [
    "# Первая часть. Исследование"
   ]
  },
  {
   "cell_type": "code",
   "execution_count": 365,
   "metadata": {
    "executionInfo": {
     "elapsed": 680,
     "status": "ok",
     "timestamp": 1666014124532,
     "user": {
      "displayName": "Илья Целковой",
      "userId": "12582527111395622430"
     },
     "user_tz": -180
    },
    "id": "lzLqEeZKEEYz"
   },
   "outputs": [],
   "source": [
    "import pandas as pd\n",
    "import numpy as np\n",
    "from matplotlib import pyplot as plt"
   ]
  },
  {
   "cell_type": "markdown",
   "metadata": {
    "id": "LOlxdURSEEY3"
   },
   "source": [
    "## Загрузка данных (2 балла)\n",
    "\n",
    "1) Посмотрите на случайные строчки. \n",
    "\n",
    "2) Посмотрите, есть ли в датасете незаполненные значения (nan'ы) с помощью data.isna() или data.info() и, если нужно, замените их на что-то. Будет хорошо, если вы построите табличку с количеством nan в каждой колонке."
   ]
  },
  {
   "cell_type": "code",
   "execution_count": 366,
   "metadata": {
    "colab": {
     "base_uri": "https://localhost:8080/",
     "height": 328
    },
    "executionInfo": {
     "elapsed": 250,
     "status": "error",
     "timestamp": 1666014128155,
     "user": {
      "displayName": "Илья Целковой",
      "userId": "12582527111395622430"
     },
     "user_tz": -180
    },
    "id": "pw-Brue9EEY3",
    "outputId": "fe22995f-549f-457a-9d11-d65cca913cb0"
   },
   "outputs": [],
   "source": [
    "data = pd.read_csv('kaggle_data/train.csv')"
   ]
  },
  {
   "cell_type": "code",
   "execution_count": 367,
   "metadata": {
    "executionInfo": {
     "elapsed": 4,
     "status": "ok",
     "timestamp": 1666005670365,
     "user": {
      "displayName": "Илья Целковой",
      "userId": "12582527111395622430"
     },
     "user_tz": -180
    },
    "id": "KgnkkF5bEEY9"
   },
   "outputs": [],
   "source": [
    "# Для вашего удобства списки с именами разных колонок\n",
    "\n",
    "# Числовые признаки\n",
    "num_cols = [\n",
    "    'ClientPeriod',\n",
    "    'MonthlySpending',\n",
    "    'TotalSpent'\n",
    "]\n",
    "\n",
    "# Категориальные признаки\n",
    "cat_cols = [\n",
    "    'Sex',\n",
    "    'IsSeniorCitizen',\n",
    "    'HasPartner',\n",
    "    'HasChild',\n",
    "    'HasPhoneService',\n",
    "    'HasMultiplePhoneNumbers',\n",
    "    'HasInternetService',\n",
    "    'HasOnlineSecurityService',\n",
    "    'HasOnlineBackup',\n",
    "    'HasDeviceProtection',\n",
    "    'HasTechSupportAccess',\n",
    "    'HasOnlineTV',\n",
    "    'HasMovieSubscription',\n",
    "    'HasContractPhone',\n",
    "    'IsBillingPaperless',\n",
    "    'PaymentMethod'\n",
    "]\n",
    "\n",
    "feature_cols = num_cols + cat_cols\n",
    "target_col = 'Churn'"
   ]
  },
  {
   "cell_type": "code",
   "execution_count": 368,
   "metadata": {
    "colab": {
     "base_uri": "https://localhost:8080/"
    },
    "executionInfo": {
     "elapsed": 4,
     "status": "ok",
     "timestamp": 1666006273116,
     "user": {
      "displayName": "Илья Целковой",
      "userId": "12582527111395622430"
     },
     "user_tz": -180
    },
    "id": "tHC6gWabEEZA",
    "outputId": "b0dfab8d-1d1c-44f9-ba66-6eed4398c54a"
   },
   "outputs": [
    {
     "data": {
      "text/plain": [
       "ClientPeriod                0\n",
       "MonthlySpending             0\n",
       "TotalSpent                  0\n",
       "Sex                         0\n",
       "IsSeniorCitizen             0\n",
       "HasPartner                  0\n",
       "HasChild                    0\n",
       "HasPhoneService             0\n",
       "HasMultiplePhoneNumbers     0\n",
       "HasInternetService          0\n",
       "HasOnlineSecurityService    0\n",
       "HasOnlineBackup             0\n",
       "HasDeviceProtection         0\n",
       "HasTechSupportAccess        0\n",
       "HasOnlineTV                 0\n",
       "HasMovieSubscription        0\n",
       "HasContractPhone            0\n",
       "IsBillingPaperless          0\n",
       "PaymentMethod               0\n",
       "Churn                       0\n",
       "dtype: int64"
      ]
     },
     "execution_count": 368,
     "metadata": {},
     "output_type": "execute_result"
    }
   ],
   "source": [
    "data.isna().sum()"
   ]
  },
  {
   "cell_type": "markdown",
   "metadata": {
    "id": "dK370bPCEEZD"
   },
   "source": [
    "## Анализ данных (3 балла)\n",
    "\n",
    "1) Для численных призанков постройте гистограмму (*plt.hist(...)*) или boxplot (*plt.boxplot(...)*). Для категориальных посчитайте количество каждого значения для каждого признака. Для каждой колонки надо сделать *data.value_counts()* и построить bar диаграммы *plt.bar(...)* или круговые диаграммы *plt.pie(...)* (хорошо, елси вы сможете это сделать на одном гарфике с помощью *plt.subplots(...)*). \n",
    "\n",
    "2) Посмотрите на распределение целевой переменной и скажите, являются ли классы несбалансированными.\n",
    "\n",
    "3) (Если будет желание) Поиграйте с разными библиотеками для визуализации - *sns*, *pandas_visual_analysis*, etc.\n",
    "\n",
    "Второй пункт очень важен, потому что существуют задачи классификации с несбалансированными классами. Например, это может значить, что в датасете намного больше примеров 0 класса. В таких случаях нужно 1) не использовать accuracy как метрику 2) использовать методы борьбы с imbalanced dataset (обычно если датасет сильно несбалансирован, т.е. класса 1 в 20 раз меньше класса 0)."
   ]
  },
  {
   "cell_type": "code",
   "execution_count": 369,
   "metadata": {},
   "outputs": [
    {
     "data": {
      "text/plain": [
       "str"
      ]
     },
     "execution_count": 369,
     "metadata": {},
     "output_type": "execute_result"
    }
   ],
   "source": [
    "type(data[num_cols[2]][0])"
   ]
  },
  {
   "cell_type": "code",
   "execution_count": 370,
   "metadata": {},
   "outputs": [
    {
     "data": {
      "text/plain": [
       "9"
      ]
     },
     "execution_count": 370,
     "metadata": {},
     "output_type": "execute_result"
    }
   ],
   "source": [
    "gap_number = 0\n",
    "for i in data[num_cols[2]]:\n",
    "    gap_number += int(i==' ')\n",
    "\n",
    "gap_number"
   ]
  },
  {
   "cell_type": "markdown",
   "metadata": {},
   "source": [
    "Экспериментальным путем я обнаружил, что в колонке 'TotalSpent' есть пропущенные значения -- пробелы. Поэтому она не перевелась во float и осталась str. В ячейке ниже я вручную перевожу данные этой колонки во float, а пропущенные значения заменяю средним."
   ]
  },
  {
   "cell_type": "code",
   "execution_count": 371,
   "metadata": {},
   "outputs": [],
   "source": [
    "sum = 0\n",
    "n = 0\n",
    "col = data[num_cols[2]]\n",
    "\n",
    "for i in col:\n",
    "    if i != ' ':\n",
    "        sum += float(i)\n",
    "        n += 1\n",
    "\n",
    "mean = sum / n\n",
    "\n",
    "for i in range(len(col)):\n",
    "    if col[i] == ' ':\n",
    "        col.update({i: m})\n",
    "    else:\n",
    "        col.update({i: float(col[i])})\n"
   ]
  },
  {
   "cell_type": "markdown",
   "metadata": {},
   "source": [
    "Теперь мы можем построить гистограммы для каждой колонки."
   ]
  },
  {
   "cell_type": "code",
   "execution_count": 372,
   "metadata": {},
   "outputs": [
    {
     "data": {
      "image/png": "[encoded data removed]",
      "text/plain": [
       "<Figure size 864x216 with 3 Axes>"
      ]
     },
     "metadata": {
      "needs_background": "light"
     },
     "output_type": "display_data"
    }
   ],
   "source": [
    "fig = plt.figure(figsize=(12, 3))\n",
    "for i in range(len(num_cols)):\n",
    "    ax = fig.add_subplot(1, 3, i+1)\n",
    "    d = data[num_cols[i]]\n",
    "    ax.hist(d)\n",
    "    ax.set_title(d.name)\n"
   ]
  },
  {
   "cell_type": "markdown",
   "metadata": {},
   "source": [
    "А так же круговые диаграммы для категориальных признаков."
   ]
  },
  {
   "cell_type": "code",
   "execution_count": 373,
   "metadata": {},
   "outputs": [
    {
     "data": {
      "image/png": "[encoded data removed]",
      "text/plain": [
       "<Figure size 1152x1152 with 16 Axes>"
      ]
     },
     "metadata": {},
     "output_type": "display_data"
    }
   ],
   "source": [
    "fig = plt.figure(figsize=(16, 16))\n",
    "for i in range(len(cat_cols)):\n",
    "    ax = fig.add_subplot(4, 4, i+1)\n",
    "    d = data[cat_cols[i]].value_counts()\n",
    "    ax.pie(d, labels=d.keys())\n",
    "    ax.set_title(d.name)\n"
   ]
  },
  {
   "cell_type": "markdown",
   "metadata": {},
   "source": [
    "Теперь посмотрим на распределение целевой переменной. Классы различаются примерно в 2.5 по объему. Этот случай не является примером сильного дисбаланса."
   ]
  },
  {
   "cell_type": "code",
   "execution_count": 374,
   "metadata": {},
   "outputs": [
    {
     "data": {
      "text/plain": [
       "<AxesSubplot:>"
      ]
     },
     "execution_count": 374,
     "metadata": {},
     "output_type": "execute_result"
    },
    {
     "data": {
      "image/png": "[encoded data removed]",
      "text/plain": [
       "<Figure size 432x288 with 1 Axes>"
      ]
     },
     "metadata": {
      "needs_background": "light"
     },
     "output_type": "display_data"
    }
   ],
   "source": [
    "data[target_col].hist()"
   ]
  },
  {
   "cell_type": "markdown",
   "metadata": {
    "id": "zg60u3QDEEZH"
   },
   "source": [
    "(Дополнительно) Если вы нашли какие-то ошибки в данных или выбросы, то можете их убрать. Тут можно поэксперементировать с обработкой данных как угодно, но не за баллы."
   ]
  },
  {
   "cell_type": "markdown",
   "metadata": {
    "id": "DviiJd8REEZK"
   },
   "source": [
    "## Применение линейных моделей (3 балла)\n",
    "\n",
    "1) Обработайте данные для того, чтобы к ним можно было применить LogisticRegression. Т.е. отнормируйте числовые признаки, а категориальные закодируйте с помощью one-hot-encoding'а. \n",
    "\n",
    "2) С помощью кроссвалидации или разделения на train/valid выборку протестируйте разные значения гиперпараметра C и выберите лучший (можно тестировать С=100, 10, 1, 0.1, 0.01, 0.001) по метрике ROC-AUC. \n",
    "\n",
    "Если вы разделяете на train/valid, то используйте LogisticRegressionCV. Он сам при вызове .fit() подберет параметр С. (не забудьте передать scroing='roc_auc', чтобы при кроссвалидации сравнивались значения этой метрики, и refit=True, чтобы при потом модель обучилась на всем датасете с лучшим параметром C). \n",
    "\n",
    "\n",
    "(более сложный вариант) Если вы будете использовать кроссвалидацию, то преобразования данных и LogisticRegression нужно соединить в один Pipeline с помощью make_pipeline, как это делалось во втором семинаре. Потом pipeline надо передать в GridSearchCV. Для one-hot-encoding'a можно испльзовать комбинацию LabelEncoder + OneHotEncoder (сначала превращаем строчки в числа, а потом числа првращаем в one-hot вектора.)"
   ]
  },
  {
   "cell_type": "code",
   "execution_count": 407,
   "metadata": {
    "id": "xHCLDmwqEEZL"
   },
   "outputs": [],
   "source": [
    "from sklearn.linear_model import LogisticRegression\n",
    "from sklearn.model_selection import GridSearchCV\n",
    "from sklearn.preprocessing import StandardScaler, OneHotEncoder\n",
    "from sklearn.pipeline import Pipeline\n",
    "from sklearn.compose import ColumnTransformer"
   ]
  },
  {
   "cell_type": "markdown",
   "metadata": {},
   "source": [
    "Используем кроссвалидацию."
   ]
  },
  {
   "cell_type": "code",
   "execution_count": 436,
   "metadata": {
    "scrolled": true
   },
   "outputs": [
    {
     "data": {
      "text/html": [
       "<style>#sk-container-id-26 {color: black;background-color: white;}#sk-container-id-26 pre{padding: 0;}#sk-container-id-26 div.sk-toggleable {background-color: white;}#sk-container-id-26 label.sk-toggleable__label {cursor: pointer;display: block;width: 100%;margin-bottom: 0;padding: 0.3em;box-sizing: border-box;text-align: center;}#sk-container-id-26 label.sk-toggleable__label-arrow:before {content: \"▸\";float: left;margin-right: 0.25em;color: #696969;}#sk-container-id-26 label.sk-toggleable__label-arrow:hover:before {color: black;}#sk-container-id-26 div.sk-estimator:hover label.sk-toggleable__label-arrow:before {color: black;}#sk-container-id-26 div.sk-toggleable__content {max-height: 0;max-width: 0;overflow: hidden;text-align: left;background-color: #f0f8ff;}#sk-container-id-26 div.sk-toggleable__content pre {margin: 0.2em;color: black;border-radius: 0.25em;background-color: #f0f8ff;}#sk-container-id-26 input.sk-toggleable__control:checked~div.sk-toggleable__content {max-height: 200px;max-width: 100%;overflow: auto;}#sk-container-id-26 input.sk-toggleable__control:checked~label.sk-toggleable__label-arrow:before {content: \"▾\";}#sk-container-id-26 div.sk-estimator input.sk-toggleable__control:checked~label.sk-toggleable__label {background-color: #d4ebff;}#sk-container-id-26 div.sk-label input.sk-toggleable__control:checked~label.sk-toggleable__label {background-color: #d4ebff;}#sk-container-id-26 input.sk-hidden--visually {border: 0;clip: rect(1px 1px 1px 1px);clip: rect(1px, 1px, 1px, 1px);height: 1px;margin: -1px;overflow: hidden;padding: 0;position: absolute;width: 1px;}#sk-container-id-26 div.sk-estimator {font-family: monospace;background-color: #f0f8ff;border: 1px dotted black;border-radius: 0.25em;box-sizing: border-box;margin-bottom: 0.5em;}#sk-container-id-26 div.sk-estimator:hover {background-color: #d4ebff;}#sk-container-id-26 div.sk-parallel-item::after {content: \"\";width: 100%;border-bottom: 1px solid gray;flex-grow: 1;}#sk-container-id-26 div.sk-label:hover label.sk-toggleable__label {background-color: #d4ebff;}#sk-container-id-26 div.sk-serial::before {content: \"\";position: absolute;border-left: 1px solid gray;box-sizing: border-box;top: 0;bottom: 0;left: 50%;z-index: 0;}#sk-container-id-26 div.sk-serial {display: flex;flex-direction: column;align-items: center;background-color: white;padding-right: 0.2em;padding-left: 0.2em;position: relative;}#sk-container-id-26 div.sk-item {position: relative;z-index: 1;}#sk-container-id-26 div.sk-parallel {display: flex;align-items: stretch;justify-content: center;background-color: white;position: relative;}#sk-container-id-26 div.sk-item::before, #sk-container-id-26 div.sk-parallel-item::before {content: \"\";position: absolute;border-left: 1px solid gray;box-sizing: border-box;top: 0;bottom: 0;left: 50%;z-index: -1;}#sk-container-id-26 div.sk-parallel-item {display: flex;flex-direction: column;z-index: 1;position: relative;background-color: white;}#sk-container-id-26 div.sk-parallel-item:first-child::after {align-self: flex-end;width: 50%;}#sk-container-id-26 div.sk-parallel-item:last-child::after {align-self: flex-start;width: 50%;}#sk-container-id-26 div.sk-parallel-item:only-child::after {width: 0;}#sk-container-id-26 div.sk-dashed-wrapped {border: 1px dashed gray;margin: 0 0.4em 0.5em 0.4em;box-sizing: border-box;padding-bottom: 0.4em;background-color: white;}#sk-container-id-26 div.sk-label label {font-family: monospace;font-weight: bold;display: inline-block;line-height: 1.2em;}#sk-container-id-26 div.sk-label-container {text-align: center;}#sk-container-id-26 div.sk-container {/* jupyter's `normalize.less` sets `[hidden] { display: none; }` but bootstrap.min.css set `[hidden] { display: none !important; }` so we also need the `!important` here to be able to override the default hidden behavior on the sphinx rendered scikit-learn.org. See: https://github.com/scikit-learn/scikit-learn/issues/21755 */display: inline-block !important;position: relative;}#sk-container-id-26 div.sk-text-repr-fallback {display: none;}</style><div id=\"sk-container-id-26\" class=\"sk-top-container\"><div class=\"sk-text-repr-fallback\"><pre>GridSearchCV(cv=5,\n",
       "             estimator=Pipeline(steps=[(&#x27;preprocessor&#x27;,\n",
       "                                        ColumnTransformer(transformers=[(&#x27;num&#x27;,\n",
       "                                                                         StandardScaler(),\n",
       "                                                                         [&#x27;ClientPeriod&#x27;,\n",
       "                                                                          &#x27;MonthlySpending&#x27;,\n",
       "                                                                          &#x27;TotalSpent&#x27;]),\n",
       "                                                                        (&#x27;cat&#x27;,\n",
       "                                                                         OneHotEncoder(),\n",
       "                                                                         [&#x27;Sex&#x27;,\n",
       "                                                                          &#x27;IsSeniorCitizen&#x27;,\n",
       "                                                                          &#x27;HasPartner&#x27;,\n",
       "                                                                          &#x27;HasChild&#x27;,\n",
       "                                                                          &#x27;HasPhoneService&#x27;,\n",
       "                                                                          &#x27;HasMultiplePhoneNumbers&#x27;,\n",
       "                                                                          &#x27;HasInternetService&#x27;,\n",
       "                                                                          &#x27;HasOnlineSecurityService&#x27;,\n",
       "                                                                          &#x27;HasOnlineBackup&#x27;,\n",
       "                                                                          &#x27;HasDeviceProtection&#x27;,\n",
       "                                                                          &#x27;HasTechSupportAccess&#x27;,\n",
       "                                                                          &#x27;HasOnlineTV&#x27;,\n",
       "                                                                          &#x27;HasMovieSubscription&#x27;,\n",
       "                                                                          &#x27;HasContractPhone&#x27;,\n",
       "                                                                          &#x27;IsBillingPaperless&#x27;,\n",
       "                                                                          &#x27;PaymentMethod&#x27;])])),\n",
       "                                       (&#x27;logistic&#x27;, LogisticRegression())]),\n",
       "             param_grid={&#x27;logistic__C&#x27;: [96, 94, 95, 93]}, scoring=&#x27;roc_auc&#x27;)</pre><b>In a Jupyter environment, please rerun this cell to show the HTML representation or trust the notebook. <br />On GitHub, the HTML representation is unable to render, please try loading this page with nbviewer.org.</b></div><div class=\"sk-container\" hidden><div class=\"sk-item sk-dashed-wrapped\"><div class=\"sk-label-container\"><div class=\"sk-label sk-toggleable\"><input class=\"sk-toggleable__control sk-hidden--visually\" id=\"sk-estimator-id-137\" type=\"checkbox\" ><label for=\"sk-estimator-id-137\" class=\"sk-toggleable__label sk-toggleable__label-arrow\">GridSearchCV</label><div class=\"sk-toggleable__content\"><pre>GridSearchCV(cv=5,\n",
       "             estimator=Pipeline(steps=[(&#x27;preprocessor&#x27;,\n",
       "                                        ColumnTransformer(transformers=[(&#x27;num&#x27;,\n",
       "                                                                         StandardScaler(),\n",
       "                                                                         [&#x27;ClientPeriod&#x27;,\n",
       "                                                                          &#x27;MonthlySpending&#x27;,\n",
       "                                                                          &#x27;TotalSpent&#x27;]),\n",
       "                                                                        (&#x27;cat&#x27;,\n",
       "                                                                         OneHotEncoder(),\n",
       "                                                                         [&#x27;Sex&#x27;,\n",
       "                                                                          &#x27;IsSeniorCitizen&#x27;,\n",
       "                                                                          &#x27;HasPartner&#x27;,\n",
       "                                                                          &#x27;HasChild&#x27;,\n",
       "                                                                          &#x27;HasPhoneService&#x27;,\n",
       "                                                                          &#x27;HasMultiplePhoneNumbers&#x27;,\n",
       "                                                                          &#x27;HasInternetService&#x27;,\n",
       "                                                                          &#x27;HasOnlineSecurityService&#x27;,\n",
       "                                                                          &#x27;HasOnlineBackup&#x27;,\n",
       "                                                                          &#x27;HasDeviceProtection&#x27;,\n",
       "                                                                          &#x27;HasTechSupportAccess&#x27;,\n",
       "                                                                          &#x27;HasOnlineTV&#x27;,\n",
       "                                                                          &#x27;HasMovieSubscription&#x27;,\n",
       "                                                                          &#x27;HasContractPhone&#x27;,\n",
       "                                                                          &#x27;IsBillingPaperless&#x27;,\n",
       "                                                                          &#x27;PaymentMethod&#x27;])])),\n",
       "                                       (&#x27;logistic&#x27;, LogisticRegression())]),\n",
       "             param_grid={&#x27;logistic__C&#x27;: [96, 94, 95, 93]}, scoring=&#x27;roc_auc&#x27;)</pre></div></div></div><div class=\"sk-parallel\"><div class=\"sk-parallel-item\"><div class=\"sk-item\"><div class=\"sk-label-container\"><div class=\"sk-label sk-toggleable\"><input class=\"sk-toggleable__control sk-hidden--visually\" id=\"sk-estimator-id-138\" type=\"checkbox\" ><label for=\"sk-estimator-id-138\" class=\"sk-toggleable__label sk-toggleable__label-arrow\">estimator: Pipeline</label><div class=\"sk-toggleable__content\"><pre>Pipeline(steps=[(&#x27;preprocessor&#x27;,\n",
       "                 ColumnTransformer(transformers=[(&#x27;num&#x27;, StandardScaler(),\n",
       "                                                  [&#x27;ClientPeriod&#x27;,\n",
       "                                                   &#x27;MonthlySpending&#x27;,\n",
       "                                                   &#x27;TotalSpent&#x27;]),\n",
       "                                                 (&#x27;cat&#x27;, OneHotEncoder(),\n",
       "                                                  [&#x27;Sex&#x27;, &#x27;IsSeniorCitizen&#x27;,\n",
       "                                                   &#x27;HasPartner&#x27;, &#x27;HasChild&#x27;,\n",
       "                                                   &#x27;HasPhoneService&#x27;,\n",
       "                                                   &#x27;HasMultiplePhoneNumbers&#x27;,\n",
       "                                                   &#x27;HasInternetService&#x27;,\n",
       "                                                   &#x27;HasOnlineSecurityService&#x27;,\n",
       "                                                   &#x27;HasOnlineBackup&#x27;,\n",
       "                                                   &#x27;HasDeviceProtection&#x27;,\n",
       "                                                   &#x27;HasTechSupportAccess&#x27;,\n",
       "                                                   &#x27;HasOnlineTV&#x27;,\n",
       "                                                   &#x27;HasMovieSubscription&#x27;,\n",
       "                                                   &#x27;HasContractPhone&#x27;,\n",
       "                                                   &#x27;IsBillingPaperless&#x27;,\n",
       "                                                   &#x27;PaymentMethod&#x27;])])),\n",
       "                (&#x27;logistic&#x27;, LogisticRegression())])</pre></div></div></div><div class=\"sk-serial\"><div class=\"sk-item\"><div class=\"sk-serial\"><div class=\"sk-item sk-dashed-wrapped\"><div class=\"sk-label-container\"><div class=\"sk-label sk-toggleable\"><input class=\"sk-toggleable__control sk-hidden--visually\" id=\"sk-estimator-id-139\" type=\"checkbox\" ><label for=\"sk-estimator-id-139\" class=\"sk-toggleable__label sk-toggleable__label-arrow\">preprocessor: ColumnTransformer</label><div class=\"sk-toggleable__content\"><pre>ColumnTransformer(transformers=[(&#x27;num&#x27;, StandardScaler(),\n",
       "                                 [&#x27;ClientPeriod&#x27;, &#x27;MonthlySpending&#x27;,\n",
       "                                  &#x27;TotalSpent&#x27;]),\n",
       "                                (&#x27;cat&#x27;, OneHotEncoder(),\n",
       "                                 [&#x27;Sex&#x27;, &#x27;IsSeniorCitizen&#x27;, &#x27;HasPartner&#x27;,\n",
       "                                  &#x27;HasChild&#x27;, &#x27;HasPhoneService&#x27;,\n",
       "                                  &#x27;HasMultiplePhoneNumbers&#x27;,\n",
       "                                  &#x27;HasInternetService&#x27;,\n",
       "                                  &#x27;HasOnlineSecurityService&#x27;, &#x27;HasOnlineBackup&#x27;,\n",
       "                                  &#x27;HasDeviceProtection&#x27;, &#x27;HasTechSupportAccess&#x27;,\n",
       "                                  &#x27;HasOnlineTV&#x27;, &#x27;HasMovieSubscription&#x27;,\n",
       "                                  &#x27;HasContractPhone&#x27;, &#x27;IsBillingPaperless&#x27;,\n",
       "                                  &#x27;PaymentMethod&#x27;])])</pre></div></div></div><div class=\"sk-parallel\"><div class=\"sk-parallel-item\"><div class=\"sk-item\"><div class=\"sk-label-container\"><div class=\"sk-label sk-toggleable\"><input class=\"sk-toggleable__control sk-hidden--visually\" id=\"sk-estimator-id-140\" type=\"checkbox\" ><label for=\"sk-estimator-id-140\" class=\"sk-toggleable__label sk-toggleable__label-arrow\">num</label><div class=\"sk-toggleable__content\"><pre>[&#x27;ClientPeriod&#x27;, &#x27;MonthlySpending&#x27;, &#x27;TotalSpent&#x27;]</pre></div></div></div><div class=\"sk-serial\"><div class=\"sk-item\"><div class=\"sk-estimator sk-toggleable\"><input class=\"sk-toggleable__control sk-hidden--visually\" id=\"sk-estimator-id-141\" type=\"checkbox\" ><label for=\"sk-estimator-id-141\" class=\"sk-toggleable__label sk-toggleable__label-arrow\">StandardScaler</label><div class=\"sk-toggleable__content\"><pre>StandardScaler()</pre></div></div></div></div></div></div><div class=\"sk-parallel-item\"><div class=\"sk-item\"><div class=\"sk-label-container\"><div class=\"sk-label sk-toggleable\"><input class=\"sk-toggleable__control sk-hidden--visually\" id=\"sk-estimator-id-142\" type=\"checkbox\" ><label for=\"sk-estimator-id-142\" class=\"sk-toggleable__label sk-toggleable__label-arrow\">cat</label><div class=\"sk-toggleable__content\"><pre>[&#x27;Sex&#x27;, &#x27;IsSeniorCitizen&#x27;, &#x27;HasPartner&#x27;, &#x27;HasChild&#x27;, &#x27;HasPhoneService&#x27;, &#x27;HasMultiplePhoneNumbers&#x27;, &#x27;HasInternetService&#x27;, &#x27;HasOnlineSecurityService&#x27;, &#x27;HasOnlineBackup&#x27;, &#x27;HasDeviceProtection&#x27;, &#x27;HasTechSupportAccess&#x27;, &#x27;HasOnlineTV&#x27;, &#x27;HasMovieSubscription&#x27;, &#x27;HasContractPhone&#x27;, &#x27;IsBillingPaperless&#x27;, &#x27;PaymentMethod&#x27;]</pre></div></div></div><div class=\"sk-serial\"><div class=\"sk-item\"><div class=\"sk-estimator sk-toggleable\"><input class=\"sk-toggleable__control sk-hidden--visually\" id=\"sk-estimator-id-143\" type=\"checkbox\" ><label for=\"sk-estimator-id-143\" class=\"sk-toggleable__label sk-toggleable__label-arrow\">OneHotEncoder</label><div class=\"sk-toggleable__content\"><pre>OneHotEncoder()</pre></div></div></div></div></div></div></div></div><div class=\"sk-item\"><div class=\"sk-estimator sk-toggleable\"><input class=\"sk-toggleable__control sk-hidden--visually\" id=\"sk-estimator-id-144\" type=\"checkbox\" ><label for=\"sk-estimator-id-144\" class=\"sk-toggleable__label sk-toggleable__label-arrow\">LogisticRegression</label><div class=\"sk-toggleable__content\"><pre>LogisticRegression()</pre></div></div></div></div></div></div></div></div></div></div></div></div>"
      ],
      "text/plain": [
       "GridSearchCV(cv=5,\n",
       "             estimator=Pipeline(steps=[('preprocessor',\n",
       "                                        ColumnTransformer(transformers=[('num',\n",
       "                                                                         StandardScaler(),\n",
       "                                                                         ['ClientPeriod',\n",
       "                                                                          'MonthlySpending',\n",
       "                                                                          'TotalSpent']),\n",
       "                                                                        ('cat',\n",
       "                                                                         OneHotEncoder(),\n",
       "                                                                         ['Sex',\n",
       "                                                                          'IsSeniorCitizen',\n",
       "                                                                          'HasPartner',\n",
       "                                                                          'HasChild',\n",
       "                                                                          'HasPhoneService',\n",
       "                                                                          'HasMultiplePhoneNumbers',\n",
       "                                                                          'HasInternetService',\n",
       "                                                                          'HasOnlineSecurityService',\n",
       "                                                                          'HasOnlineBackup',\n",
       "                                                                          'HasDeviceProtection',\n",
       "                                                                          'HasTechSupportAccess',\n",
       "                                                                          'HasOnlineTV',\n",
       "                                                                          'HasMovieSubscription',\n",
       "                                                                          'HasContractPhone',\n",
       "                                                                          'IsBillingPaperless',\n",
       "                                                                          'PaymentMethod'])])),\n",
       "                                       ('logistic', LogisticRegression())]),\n",
       "             param_grid={'logistic__C': [96, 94, 95, 93]}, scoring='roc_auc')"
      ]
     },
     "execution_count": 436,
     "metadata": {},
     "output_type": "execute_result"
    }
   ],
   "source": [
    "num_prep = StandardScaler()\n",
    "cat_prep = OneHotEncoder()\n",
    "\n",
    "preprocessor = ColumnTransformer([\n",
    "        ('num', num_prep, num_cols),\n",
    "        ('cat', cat_prep, cat_cols)\n",
    "        ])\n",
    "\n",
    "log_reg = LogisticRegression()\n",
    "\n",
    "classifier = Pipeline([\n",
    "        ('preprocessor', preprocessor), \n",
    "        ('logistic', log_reg)\n",
    "])\n",
    "\n",
    "parameters = {'logistic__C': [96, 95, 94, 93]}\n",
    "\n",
    "CV_model = GridSearchCV(classifier,\n",
    "                        parameters,\n",
    "                        scoring='roc_auc',\n",
    "                        cv=5\n",
    "                       )\n",
    "\n",
    "CV_model.fit(data[num_cols+cat_cols], data[target_col])"
   ]
  },
  {
   "cell_type": "code",
   "execution_count": 437,
   "metadata": {},
   "outputs": [
    {
     "data": {
      "text/plain": [
       "{'logistic__C': 95}"
      ]
     },
     "execution_count": 437,
     "metadata": {},
     "output_type": "execute_result"
    }
   ],
   "source": [
    "CV_model.best_params_"
   ]
  },
  {
   "cell_type": "code",
   "execution_count": 438,
   "metadata": {},
   "outputs": [
    {
     "data": {
      "text/plain": [
       "0.8449915619281578"
      ]
     },
     "execution_count": 438,
     "metadata": {},
     "output_type": "execute_result"
    }
   ],
   "source": [
    "CV_model.best_score_"
   ]
  },
  {
   "cell_type": "markdown",
   "metadata": {
    "id": "uVahy6JKEEZQ"
   },
   "source": [
    "Выпишите какое лучшее качество и с какими параметрами вам удалось получить"
   ]
  },
  {
   "cell_type": "markdown",
   "metadata": {
    "id": "36729TOQEEZR"
   },
   "source": [
    "C = 95, ROC-AUC = 0.8449915619281578"
   ]
  },
  {
   "cell_type": "markdown",
   "metadata": {
    "id": "BlTeVy7fEEZR"
   },
   "source": [
    "## Применение градиентного бустинга (2 балла)\n",
    "\n",
    "Если вы хотите получить баллы за точный ответ, то стоит попробовать градиентный бустинг. Часто градиентный бустинг с дефолтными параметрами даст вам 80% результата за 0% усилий.\n",
    "\n",
    "Мы будем использовать catboost, поэтому нам не надо кодировать категориальные признаки. catboost сделает это сам (в .fit() надо передать cat_features=cat_cols). А численные признаки нормировать для моделей, основанных на деревьях не нужно.\n",
    "\n",
    "1) Разделите выборку на train/valid. Протестируйте catboost cо стандартными параметрами.\n",
    "\n",
    "2) Протестируйте разные занчения параметроа количества деревьев и learning_rate'а и выберите лучшую по метрике ROC-AUC комбинацию. \n",
    "\n",
    "(Дополнительно) Есть некоторые сложности с тем, чтобы использовать CatBoostClassifier вместе с GridSearchCV, поэтому мы не просим использовать кроссвалидацию. Но можете попробовать)"
   ]
  },
  {
   "cell_type": "code",
   "execution_count": 440,
   "metadata": {},
   "outputs": [],
   "source": [
    "from sklearn.model_selection import train_test_split"
   ]
  },
  {
   "cell_type": "code",
   "execution_count": 475,
   "metadata": {
    "id": "Fioxxlp-EEZS"
   },
   "outputs": [],
   "source": [
    "X_train, X_test, y_train, y_test = train_test_split(\n",
    "    data[num_cols+cat_cols], \n",
    "    data[target_col], \n",
    "    test_size=0.2, \n",
    "    #random_state=42\n",
    ")"
   ]
  },
  {
   "cell_type": "code",
   "execution_count": 476,
   "metadata": {},
   "outputs": [],
   "source": [
    "from catboost import CatBoostClassifier"
   ]
  },
  {
   "cell_type": "markdown",
   "metadata": {},
   "source": [
    "Тест с разными параметрами learning_rate не дал ничего лучше, чем автоматический подбор, заданный по дефолту."
   ]
  },
  {
   "cell_type": "code",
   "execution_count": 477,
   "metadata": {},
   "outputs": [],
   "source": [
    "CB_model = CatBoostClassifier(iterations=None, learning_rate=None, num_trees=100, custom_metric=None)"
   ]
  },
  {
   "cell_type": "code",
   "execution_count": 478,
   "metadata": {},
   "outputs": [
    {
     "name": "stdout",
     "output_type": "stream",
     "text": [
      "Learning rate set to 0.123165\n",
      "0:\tlearn: 0.6482975\ttest: 0.6496284\tbest: 0.6496284 (0)\ttotal: 10.8ms\tremaining: 1.07s\n",
      "1:\tlearn: 0.6131923\ttest: 0.6158632\tbest: 0.6158632 (1)\ttotal: 21.7ms\tremaining: 1.06s\n",
      "2:\tlearn: 0.5838867\ttest: 0.5878144\tbest: 0.5878144 (2)\ttotal: 33.3ms\tremaining: 1.07s\n",
      "3:\tlearn: 0.5612058\ttest: 0.5670459\tbest: 0.5670459 (3)\ttotal: 44.8ms\tremaining: 1.08s\n",
      "4:\tlearn: 0.5418973\ttest: 0.5494615\tbest: 0.5494615 (4)\ttotal: 56.2ms\tremaining: 1.07s\n",
      "5:\tlearn: 0.5253895\ttest: 0.5347021\tbest: 0.5347021 (5)\ttotal: 66.6ms\tremaining: 1.04s\n",
      "6:\tlearn: 0.5104418\ttest: 0.5206746\tbest: 0.5206746 (6)\ttotal: 78ms\tremaining: 1.03s\n",
      "7:\tlearn: 0.4986470\ttest: 0.5089218\tbest: 0.5089218 (7)\ttotal: 89.8ms\tremaining: 1.03s\n",
      "8:\tlearn: 0.4872788\ttest: 0.4968420\tbest: 0.4968420 (8)\ttotal: 101ms\tremaining: 1.02s\n",
      "9:\tlearn: 0.4766007\ttest: 0.4855681\tbest: 0.4855681 (9)\ttotal: 113ms\tremaining: 1.01s\n",
      "10:\tlearn: 0.4678128\ttest: 0.4772661\tbest: 0.4772661 (10)\ttotal: 124ms\tremaining: 1s\n",
      "11:\tlearn: 0.4611870\ttest: 0.4706326\tbest: 0.4706326 (11)\ttotal: 133ms\tremaining: 978ms\n",
      "12:\tlearn: 0.4548460\ttest: 0.4642065\tbest: 0.4642065 (12)\ttotal: 144ms\tremaining: 967ms\n",
      "13:\tlearn: 0.4497607\ttest: 0.4590207\tbest: 0.4590207 (13)\ttotal: 156ms\tremaining: 957ms\n",
      "14:\tlearn: 0.4456715\ttest: 0.4547796\tbest: 0.4547796 (14)\ttotal: 162ms\tremaining: 916ms\n",
      "15:\tlearn: 0.4426328\ttest: 0.4514514\tbest: 0.4514514 (15)\ttotal: 166ms\tremaining: 869ms\n",
      "16:\tlearn: 0.4379623\ttest: 0.4468972\tbest: 0.4468972 (16)\ttotal: 173ms\tremaining: 845ms\n",
      "17:\tlearn: 0.4347321\ttest: 0.4445957\tbest: 0.4445957 (17)\ttotal: 184ms\tremaining: 839ms\n",
      "18:\tlearn: 0.4310430\ttest: 0.4409378\tbest: 0.4409378 (18)\ttotal: 194ms\tremaining: 825ms\n",
      "19:\tlearn: 0.4277320\ttest: 0.4379902\tbest: 0.4379902 (19)\ttotal: 205ms\tremaining: 819ms\n",
      "20:\tlearn: 0.4248859\ttest: 0.4350595\tbest: 0.4350595 (20)\ttotal: 219ms\tremaining: 825ms\n",
      "21:\tlearn: 0.4227458\ttest: 0.4326943\tbest: 0.4326943 (21)\ttotal: 228ms\tremaining: 808ms\n",
      "22:\tlearn: 0.4206264\ttest: 0.4308010\tbest: 0.4308010 (22)\ttotal: 240ms\tremaining: 804ms\n",
      "23:\tlearn: 0.4180457\ttest: 0.4282522\tbest: 0.4282522 (23)\ttotal: 252ms\tremaining: 798ms\n",
      "24:\tlearn: 0.4166751\ttest: 0.4266982\tbest: 0.4266982 (24)\ttotal: 258ms\tremaining: 774ms\n",
      "25:\tlearn: 0.4151293\ttest: 0.4252686\tbest: 0.4252686 (25)\ttotal: 270ms\tremaining: 769ms\n",
      "26:\tlearn: 0.4140987\ttest: 0.4240011\tbest: 0.4240011 (26)\ttotal: 278ms\tremaining: 751ms\n",
      "27:\tlearn: 0.4131050\ttest: 0.4229804\tbest: 0.4229804 (27)\ttotal: 285ms\tremaining: 734ms\n",
      "28:\tlearn: 0.4116812\ttest: 0.4219369\tbest: 0.4219369 (28)\ttotal: 297ms\tremaining: 726ms\n",
      "29:\tlearn: 0.4107055\ttest: 0.4207262\tbest: 0.4207262 (29)\ttotal: 303ms\tremaining: 706ms\n",
      "30:\tlearn: 0.4089875\ttest: 0.4196372\tbest: 0.4196372 (30)\ttotal: 314ms\tremaining: 699ms\n",
      "31:\tlearn: 0.4073907\ttest: 0.4182856\tbest: 0.4182856 (31)\ttotal: 326ms\tremaining: 692ms\n",
      "32:\tlearn: 0.4053978\ttest: 0.4173375\tbest: 0.4173375 (32)\ttotal: 337ms\tremaining: 684ms\n",
      "33:\tlearn: 0.4039601\ttest: 0.4167294\tbest: 0.4167294 (33)\ttotal: 348ms\tremaining: 676ms\n",
      "34:\tlearn: 0.4030038\ttest: 0.4158775\tbest: 0.4158775 (34)\ttotal: 360ms\tremaining: 668ms\n",
      "35:\tlearn: 0.4022099\ttest: 0.4152614\tbest: 0.4152614 (35)\ttotal: 369ms\tremaining: 656ms\n",
      "36:\tlearn: 0.4017524\ttest: 0.4147424\tbest: 0.4147424 (36)\ttotal: 376ms\tremaining: 641ms\n",
      "37:\tlearn: 0.4010752\ttest: 0.4144294\tbest: 0.4144294 (37)\ttotal: 388ms\tremaining: 633ms\n",
      "38:\tlearn: 0.4008753\ttest: 0.4141948\tbest: 0.4141948 (38)\ttotal: 395ms\tremaining: 618ms\n",
      "39:\tlearn: 0.4002849\ttest: 0.4138337\tbest: 0.4138337 (39)\ttotal: 406ms\tremaining: 610ms\n",
      "40:\tlearn: 0.3994301\ttest: 0.4135195\tbest: 0.4135195 (40)\ttotal: 418ms\tremaining: 601ms\n",
      "41:\tlearn: 0.3987855\ttest: 0.4130859\tbest: 0.4130859 (41)\ttotal: 432ms\tremaining: 596ms\n",
      "42:\tlearn: 0.3985620\ttest: 0.4129157\tbest: 0.4129157 (42)\ttotal: 441ms\tremaining: 585ms\n",
      "43:\tlearn: 0.3982719\ttest: 0.4125726\tbest: 0.4125726 (43)\ttotal: 445ms\tremaining: 567ms\n",
      "44:\tlearn: 0.3976661\ttest: 0.4124668\tbest: 0.4124668 (44)\ttotal: 457ms\tremaining: 559ms\n",
      "45:\tlearn: 0.3969024\ttest: 0.4120375\tbest: 0.4120375 (45)\ttotal: 469ms\tremaining: 551ms\n",
      "46:\tlearn: 0.3964089\ttest: 0.4123168\tbest: 0.4120375 (45)\ttotal: 481ms\tremaining: 542ms\n",
      "47:\tlearn: 0.3959150\ttest: 0.4123742\tbest: 0.4120375 (45)\ttotal: 492ms\tremaining: 533ms\n",
      "48:\tlearn: 0.3959060\ttest: 0.4123767\tbest: 0.4120375 (45)\ttotal: 496ms\tremaining: 517ms\n",
      "49:\tlearn: 0.3956686\ttest: 0.4123122\tbest: 0.4120375 (45)\ttotal: 508ms\tremaining: 508ms\n",
      "50:\tlearn: 0.3952727\ttest: 0.4121204\tbest: 0.4120375 (45)\ttotal: 520ms\tremaining: 499ms\n",
      "51:\tlearn: 0.3950691\ttest: 0.4121920\tbest: 0.4120375 (45)\ttotal: 532ms\tremaining: 491ms\n",
      "52:\tlearn: 0.3944682\ttest: 0.4119121\tbest: 0.4119121 (52)\ttotal: 543ms\tremaining: 481ms\n",
      "53:\tlearn: 0.3943580\ttest: 0.4118840\tbest: 0.4118840 (53)\ttotal: 549ms\tremaining: 468ms\n",
      "54:\tlearn: 0.3938394\ttest: 0.4116756\tbest: 0.4116756 (54)\ttotal: 560ms\tremaining: 458ms\n",
      "55:\tlearn: 0.3933680\ttest: 0.4116360\tbest: 0.4116360 (55)\ttotal: 571ms\tremaining: 449ms\n",
      "56:\tlearn: 0.3925749\ttest: 0.4118807\tbest: 0.4116360 (55)\ttotal: 583ms\tremaining: 440ms\n",
      "57:\tlearn: 0.3919547\ttest: 0.4118944\tbest: 0.4116360 (55)\ttotal: 594ms\tremaining: 430ms\n",
      "58:\tlearn: 0.3915220\ttest: 0.4118435\tbest: 0.4116360 (55)\ttotal: 606ms\tremaining: 421ms\n",
      "59:\tlearn: 0.3909614\ttest: 0.4120458\tbest: 0.4116360 (55)\ttotal: 617ms\tremaining: 411ms\n",
      "60:\tlearn: 0.3907093\ttest: 0.4121699\tbest: 0.4116360 (55)\ttotal: 629ms\tremaining: 402ms\n",
      "61:\tlearn: 0.3904330\ttest: 0.4120028\tbest: 0.4116360 (55)\ttotal: 644ms\tremaining: 395ms\n",
      "62:\tlearn: 0.3897336\ttest: 0.4121323\tbest: 0.4116360 (55)\ttotal: 656ms\tremaining: 386ms\n",
      "63:\tlearn: 0.3895350\ttest: 0.4120032\tbest: 0.4116360 (55)\ttotal: 669ms\tremaining: 376ms\n",
      "64:\tlearn: 0.3895263\ttest: 0.4120020\tbest: 0.4116360 (55)\ttotal: 680ms\tremaining: 366ms\n",
      "65:\tlearn: 0.3888822\ttest: 0.4119791\tbest: 0.4116360 (55)\ttotal: 692ms\tremaining: 356ms\n",
      "66:\tlearn: 0.3885984\ttest: 0.4118129\tbest: 0.4116360 (55)\ttotal: 703ms\tremaining: 346ms\n",
      "67:\tlearn: 0.3884024\ttest: 0.4118217\tbest: 0.4116360 (55)\ttotal: 715ms\tremaining: 336ms\n",
      "68:\tlearn: 0.3879747\ttest: 0.4119957\tbest: 0.4116360 (55)\ttotal: 726ms\tremaining: 326ms\n",
      "69:\tlearn: 0.3876559\ttest: 0.4116777\tbest: 0.4116360 (55)\ttotal: 738ms\tremaining: 316ms\n",
      "70:\tlearn: 0.3873528\ttest: 0.4116129\tbest: 0.4116129 (70)\ttotal: 751ms\tremaining: 307ms\n",
      "71:\tlearn: 0.3869014\ttest: 0.4115496\tbest: 0.4115496 (71)\ttotal: 762ms\tremaining: 296ms\n",
      "72:\tlearn: 0.3863235\ttest: 0.4113967\tbest: 0.4113967 (72)\ttotal: 773ms\tremaining: 286ms\n",
      "73:\tlearn: 0.3862035\ttest: 0.4114206\tbest: 0.4113967 (72)\ttotal: 785ms\tremaining: 276ms\n",
      "74:\tlearn: 0.3859318\ttest: 0.4113709\tbest: 0.4113709 (74)\ttotal: 796ms\tremaining: 265ms\n",
      "75:\tlearn: 0.3857469\ttest: 0.4113333\tbest: 0.4113333 (75)\ttotal: 808ms\tremaining: 255ms\n",
      "76:\tlearn: 0.3852930\ttest: 0.4115938\tbest: 0.4113333 (75)\ttotal: 819ms\tremaining: 245ms\n",
      "77:\tlearn: 0.3850840\ttest: 0.4116274\tbest: 0.4113333 (75)\ttotal: 831ms\tremaining: 234ms\n",
      "78:\tlearn: 0.3847880\ttest: 0.4117577\tbest: 0.4113333 (75)\ttotal: 842ms\tremaining: 224ms\n",
      "79:\tlearn: 0.3843514\ttest: 0.4113917\tbest: 0.4113333 (75)\ttotal: 854ms\tremaining: 213ms\n",
      "80:\tlearn: 0.3843489\ttest: 0.4113907\tbest: 0.4113333 (75)\ttotal: 871ms\tremaining: 204ms\n",
      "81:\tlearn: 0.3840086\ttest: 0.4115599\tbest: 0.4113333 (75)\ttotal: 884ms\tremaining: 194ms\n",
      "82:\tlearn: 0.3836211\ttest: 0.4116385\tbest: 0.4113333 (75)\ttotal: 896ms\tremaining: 183ms\n",
      "83:\tlearn: 0.3835961\ttest: 0.4115684\tbest: 0.4113333 (75)\ttotal: 907ms\tremaining: 173ms\n",
      "84:\tlearn: 0.3833673\ttest: 0.4117160\tbest: 0.4113333 (75)\ttotal: 919ms\tremaining: 162ms\n",
      "85:\tlearn: 0.3832424\ttest: 0.4117735\tbest: 0.4113333 (75)\ttotal: 930ms\tremaining: 151ms\n",
      "86:\tlearn: 0.3830423\ttest: 0.4119566\tbest: 0.4113333 (75)\ttotal: 941ms\tremaining: 141ms\n",
      "87:\tlearn: 0.3830240\ttest: 0.4119889\tbest: 0.4113333 (75)\ttotal: 953ms\tremaining: 130ms\n",
      "88:\tlearn: 0.3827507\ttest: 0.4123200\tbest: 0.4113333 (75)\ttotal: 969ms\tremaining: 120ms\n",
      "89:\tlearn: 0.3827506\ttest: 0.4123204\tbest: 0.4113333 (75)\ttotal: 980ms\tremaining: 109ms\n",
      "90:\tlearn: 0.3823957\ttest: 0.4127135\tbest: 0.4113333 (75)\ttotal: 994ms\tremaining: 98.3ms\n",
      "91:\tlearn: 0.3821068\ttest: 0.4130776\tbest: 0.4113333 (75)\ttotal: 1.01s\tremaining: 87.6ms\n",
      "92:\tlearn: 0.3820454\ttest: 0.4130754\tbest: 0.4113333 (75)\ttotal: 1.02s\tremaining: 76.7ms\n",
      "93:\tlearn: 0.3820424\ttest: 0.4130754\tbest: 0.4113333 (75)\ttotal: 1.03s\tremaining: 65.8ms\n",
      "94:\tlearn: 0.3820411\ttest: 0.4130762\tbest: 0.4113333 (75)\ttotal: 1.05s\tremaining: 55.2ms\n"
     ]
    },
    {
     "name": "stdout",
     "output_type": "stream",
     "text": [
      "95:\tlearn: 0.3820398\ttest: 0.4130769\tbest: 0.4113333 (75)\ttotal: 1.06s\tremaining: 44.3ms\n",
      "96:\tlearn: 0.3814864\ttest: 0.4132661\tbest: 0.4113333 (75)\ttotal: 1.08s\tremaining: 33.4ms\n",
      "97:\tlearn: 0.3812233\ttest: 0.4136320\tbest: 0.4113333 (75)\ttotal: 1.09s\tremaining: 22.3ms\n",
      "98:\tlearn: 0.3809830\ttest: 0.4135549\tbest: 0.4113333 (75)\ttotal: 1.11s\tremaining: 11.2ms\n",
      "99:\tlearn: 0.3808786\ttest: 0.4136694\tbest: 0.4113333 (75)\ttotal: 1.12s\tremaining: 0us\n",
      "\n",
      "bestTest = 0.4113332902\n",
      "bestIteration = 75\n",
      "\n",
      "Shrink model to first 76 iterations.\n"
     ]
    },
    {
     "data": {
      "text/plain": [
       "<catboost.core.CatBoostClassifier at 0x19385a95e40>"
      ]
     },
     "execution_count": 478,
     "metadata": {},
     "output_type": "execute_result"
    }
   ],
   "source": [
    "CB_model.fit(X_train, y_train,\n",
    "          cat_features=cat_cols,\n",
    "          eval_set=(X_test, y_test),\n",
    "          logging_level='Verbose'\n",
    ")"
   ]
  },
  {
   "cell_type": "code",
   "execution_count": 479,
   "metadata": {},
   "outputs": [],
   "source": [
    "from sklearn.metrics import roc_auc_score"
   ]
  },
  {
   "cell_type": "code",
   "execution_count": 480,
   "metadata": {},
   "outputs": [],
   "source": [
    "preds = CB_model.predict_proba(X_test)"
   ]
  },
  {
   "cell_type": "code",
   "execution_count": 481,
   "metadata": {},
   "outputs": [
    {
     "data": {
      "text/plain": [
       "0.8528756957328387"
      ]
     },
     "execution_count": 481,
     "metadata": {},
     "output_type": "execute_result"
    }
   ],
   "source": [
    "roc_auc_score(y_test, preds[:, 1])"
   ]
  },
  {
   "cell_type": "markdown",
   "metadata": {
    "id": "rf4Kjt96EEZU"
   },
   "source": [
    "Выпишите какое лучшее качество и с какими параметрами вам удалось получить"
   ]
  },
  {
   "cell_type": "markdown",
   "metadata": {
    "id": "d2d9GolXEEZV"
   },
   "source": []
  },
  {
   "cell_type": "markdown",
   "metadata": {
    "id": "dDMXbvNZEEZV"
   },
   "source": [
    "# Предсказания"
   ]
  },
  {
   "cell_type": "markdown",
   "metadata": {},
   "source": [
    "Бустинг показал лучшие результаты. Хотя они заметно зависят от случайности, которую вносит функция train_test_split. Обучим бустинг на всей обучающей выборке."
   ]
  },
  {
   "cell_type": "code",
   "execution_count": 488,
   "metadata": {},
   "outputs": [
    {
     "name": "stdout",
     "output_type": "stream",
     "text": [
      "Learning rate set to 0.119424\n",
      "0:\tlearn: 0.6514423\ttotal: 11.3ms\tremaining: 1.68s\n",
      "1:\tlearn: 0.6164058\ttotal: 22.7ms\tremaining: 1.68s\n",
      "2:\tlearn: 0.5876567\ttotal: 34.5ms\tremaining: 1.69s\n",
      "3:\tlearn: 0.5648924\ttotal: 45.8ms\tremaining: 1.67s\n",
      "4:\tlearn: 0.5443342\ttotal: 58.1ms\tremaining: 1.68s\n",
      "5:\tlearn: 0.5284081\ttotal: 69.9ms\tremaining: 1.68s\n",
      "6:\tlearn: 0.5143552\ttotal: 81.6ms\tremaining: 1.67s\n",
      "7:\tlearn: 0.5026812\ttotal: 93.4ms\tremaining: 1.66s\n",
      "8:\tlearn: 0.4916499\ttotal: 105ms\tremaining: 1.65s\n",
      "9:\tlearn: 0.4816030\ttotal: 117ms\tremaining: 1.64s\n",
      "10:\tlearn: 0.4727355\ttotal: 129ms\tremaining: 1.63s\n",
      "11:\tlearn: 0.4656031\ttotal: 141ms\tremaining: 1.62s\n",
      "12:\tlearn: 0.4592830\ttotal: 152ms\tremaining: 1.61s\n",
      "13:\tlearn: 0.4541954\ttotal: 164ms\tremaining: 1.59s\n",
      "14:\tlearn: 0.4492636\ttotal: 176ms\tremaining: 1.58s\n",
      "15:\tlearn: 0.4459379\ttotal: 183ms\tremaining: 1.53s\n",
      "16:\tlearn: 0.4413315\ttotal: 191ms\tremaining: 1.49s\n",
      "17:\tlearn: 0.4373933\ttotal: 202ms\tremaining: 1.48s\n",
      "18:\tlearn: 0.4339604\ttotal: 218ms\tremaining: 1.5s\n",
      "19:\tlearn: 0.4306247\ttotal: 230ms\tremaining: 1.49s\n",
      "20:\tlearn: 0.4279403\ttotal: 242ms\tremaining: 1.49s\n",
      "21:\tlearn: 0.4244074\ttotal: 254ms\tremaining: 1.48s\n",
      "22:\tlearn: 0.4220116\ttotal: 264ms\tremaining: 1.46s\n",
      "23:\tlearn: 0.4197541\ttotal: 272ms\tremaining: 1.43s\n",
      "24:\tlearn: 0.4179326\ttotal: 284ms\tremaining: 1.42s\n",
      "25:\tlearn: 0.4159917\ttotal: 295ms\tremaining: 1.41s\n",
      "26:\tlearn: 0.4152172\ttotal: 300ms\tremaining: 1.36s\n",
      "27:\tlearn: 0.4134304\ttotal: 309ms\tremaining: 1.35s\n",
      "28:\tlearn: 0.4118969\ttotal: 321ms\tremaining: 1.34s\n",
      "29:\tlearn: 0.4104299\ttotal: 333ms\tremaining: 1.33s\n",
      "30:\tlearn: 0.4095371\ttotal: 344ms\tremaining: 1.32s\n",
      "31:\tlearn: 0.4081170\ttotal: 356ms\tremaining: 1.31s\n",
      "32:\tlearn: 0.4072914\ttotal: 368ms\tremaining: 1.3s\n",
      "33:\tlearn: 0.4064165\ttotal: 379ms\tremaining: 1.29s\n",
      "34:\tlearn: 0.4061929\ttotal: 384ms\tremaining: 1.26s\n",
      "35:\tlearn: 0.4050350\ttotal: 395ms\tremaining: 1.25s\n",
      "36:\tlearn: 0.4040979\ttotal: 407ms\tremaining: 1.24s\n",
      "37:\tlearn: 0.4032694\ttotal: 419ms\tremaining: 1.24s\n",
      "38:\tlearn: 0.4025939\ttotal: 435ms\tremaining: 1.24s\n",
      "39:\tlearn: 0.4020567\ttotal: 447ms\tremaining: 1.23s\n",
      "40:\tlearn: 0.4013360\ttotal: 455ms\tremaining: 1.21s\n",
      "41:\tlearn: 0.4012092\ttotal: 459ms\tremaining: 1.18s\n",
      "42:\tlearn: 0.4003254\ttotal: 471ms\tremaining: 1.17s\n",
      "43:\tlearn: 0.3996833\ttotal: 483ms\tremaining: 1.16s\n",
      "44:\tlearn: 0.3988896\ttotal: 494ms\tremaining: 1.15s\n",
      "45:\tlearn: 0.3988708\ttotal: 498ms\tremaining: 1.13s\n",
      "46:\tlearn: 0.3984622\ttotal: 510ms\tremaining: 1.12s\n",
      "47:\tlearn: 0.3978521\ttotal: 522ms\tremaining: 1.11s\n",
      "48:\tlearn: 0.3975039\ttotal: 534ms\tremaining: 1.1s\n",
      "49:\tlearn: 0.3973776\ttotal: 538ms\tremaining: 1.08s\n",
      "50:\tlearn: 0.3972351\ttotal: 546ms\tremaining: 1.06s\n",
      "51:\tlearn: 0.3971340\ttotal: 552ms\tremaining: 1.04s\n",
      "52:\tlearn: 0.3970778\ttotal: 556ms\tremaining: 1.02s\n",
      "53:\tlearn: 0.3968931\ttotal: 567ms\tremaining: 1.01s\n",
      "54:\tlearn: 0.3962863\ttotal: 579ms\tremaining: 1s\n",
      "55:\tlearn: 0.3960887\ttotal: 591ms\tremaining: 991ms\n",
      "56:\tlearn: 0.3957732\ttotal: 602ms\tremaining: 982ms\n",
      "57:\tlearn: 0.3955587\ttotal: 610ms\tremaining: 967ms\n",
      "58:\tlearn: 0.3950452\ttotal: 622ms\tremaining: 959ms\n",
      "59:\tlearn: 0.3947716\ttotal: 637ms\tremaining: 955ms\n",
      "60:\tlearn: 0.3945786\ttotal: 649ms\tremaining: 947ms\n",
      "61:\tlearn: 0.3945205\ttotal: 661ms\tremaining: 938ms\n",
      "62:\tlearn: 0.3941323\ttotal: 673ms\tremaining: 929ms\n",
      "63:\tlearn: 0.3939778\ttotal: 684ms\tremaining: 920ms\n",
      "64:\tlearn: 0.3937021\ttotal: 696ms\tremaining: 910ms\n",
      "65:\tlearn: 0.3935646\ttotal: 708ms\tremaining: 901ms\n",
      "66:\tlearn: 0.3933067\ttotal: 719ms\tremaining: 891ms\n",
      "67:\tlearn: 0.3929655\ttotal: 731ms\tremaining: 882ms\n",
      "68:\tlearn: 0.3928211\ttotal: 743ms\tremaining: 872ms\n",
      "69:\tlearn: 0.3922994\ttotal: 755ms\tremaining: 863ms\n",
      "70:\tlearn: 0.3919004\ttotal: 767ms\tremaining: 853ms\n",
      "71:\tlearn: 0.3915735\ttotal: 778ms\tremaining: 843ms\n",
      "72:\tlearn: 0.3908723\ttotal: 790ms\tremaining: 834ms\n",
      "73:\tlearn: 0.3906216\ttotal: 802ms\tremaining: 824ms\n",
      "74:\tlearn: 0.3905557\ttotal: 814ms\tremaining: 814ms\n",
      "75:\tlearn: 0.3901401\ttotal: 825ms\tremaining: 804ms\n",
      "76:\tlearn: 0.3900279\ttotal: 839ms\tremaining: 796ms\n",
      "77:\tlearn: 0.3899632\ttotal: 853ms\tremaining: 788ms\n",
      "78:\tlearn: 0.3895247\ttotal: 866ms\tremaining: 778ms\n",
      "79:\tlearn: 0.3892959\ttotal: 878ms\tremaining: 768ms\n",
      "80:\tlearn: 0.3887621\ttotal: 890ms\tremaining: 758ms\n",
      "81:\tlearn: 0.3886779\ttotal: 901ms\tremaining: 747ms\n",
      "82:\tlearn: 0.3885875\ttotal: 913ms\tremaining: 737ms\n",
      "83:\tlearn: 0.3884801\ttotal: 925ms\tremaining: 727ms\n",
      "84:\tlearn: 0.3884009\ttotal: 936ms\tremaining: 716ms\n",
      "85:\tlearn: 0.3883405\ttotal: 948ms\tremaining: 705ms\n",
      "86:\tlearn: 0.3882428\ttotal: 960ms\tremaining: 695ms\n",
      "87:\tlearn: 0.3882131\ttotal: 973ms\tremaining: 685ms\n",
      "88:\tlearn: 0.3879054\ttotal: 992ms\tremaining: 680ms\n",
      "89:\tlearn: 0.3878510\ttotal: 1s\tremaining: 671ms\n",
      "90:\tlearn: 0.3877724\ttotal: 1.02s\tremaining: 660ms\n",
      "91:\tlearn: 0.3872643\ttotal: 1.03s\tremaining: 649ms\n",
      "92:\tlearn: 0.3868881\ttotal: 1.04s\tremaining: 640ms\n",
      "93:\tlearn: 0.3863726\ttotal: 1.06s\tremaining: 634ms\n",
      "94:\tlearn: 0.3860428\ttotal: 1.08s\tremaining: 626ms\n",
      "95:\tlearn: 0.3857634\ttotal: 1.09s\tremaining: 615ms\n",
      "96:\tlearn: 0.3853305\ttotal: 1.11s\tremaining: 605ms\n",
      "97:\tlearn: 0.3849598\ttotal: 1.12s\tremaining: 597ms\n",
      "98:\tlearn: 0.3848358\ttotal: 1.14s\tremaining: 585ms\n",
      "99:\tlearn: 0.3845619\ttotal: 1.15s\tremaining: 574ms\n",
      "100:\tlearn: 0.3844515\ttotal: 1.16s\tremaining: 562ms\n",
      "101:\tlearn: 0.3843237\ttotal: 1.17s\tremaining: 551ms\n",
      "102:\tlearn: 0.3841556\ttotal: 1.18s\tremaining: 539ms\n",
      "103:\tlearn: 0.3841521\ttotal: 1.2s\tremaining: 529ms\n",
      "104:\tlearn: 0.3840799\ttotal: 1.21s\tremaining: 518ms\n",
      "105:\tlearn: 0.3840206\ttotal: 1.22s\tremaining: 507ms\n",
      "106:\tlearn: 0.3837791\ttotal: 1.23s\tremaining: 496ms\n",
      "107:\tlearn: 0.3834938\ttotal: 1.25s\tremaining: 485ms\n",
      "108:\tlearn: 0.3833395\ttotal: 1.26s\tremaining: 473ms\n",
      "109:\tlearn: 0.3832704\ttotal: 1.27s\tremaining: 463ms\n",
      "110:\tlearn: 0.3830815\ttotal: 1.29s\tremaining: 453ms\n",
      "111:\tlearn: 0.3827385\ttotal: 1.3s\tremaining: 442ms\n",
      "112:\tlearn: 0.3824933\ttotal: 1.31s\tremaining: 430ms\n",
      "113:\tlearn: 0.3823202\ttotal: 1.33s\tremaining: 419ms\n",
      "114:\tlearn: 0.3822992\ttotal: 1.34s\tremaining: 408ms\n",
      "115:\tlearn: 0.3819868\ttotal: 1.35s\tremaining: 396ms\n",
      "116:\tlearn: 0.3819029\ttotal: 1.36s\tremaining: 385ms\n",
      "117:\tlearn: 0.3816959\ttotal: 1.38s\tremaining: 374ms\n",
      "118:\tlearn: 0.3815255\ttotal: 1.39s\tremaining: 363ms\n",
      "119:\tlearn: 0.3813223\ttotal: 1.41s\tremaining: 351ms\n",
      "120:\tlearn: 0.3810699\ttotal: 1.42s\tremaining: 340ms\n",
      "121:\tlearn: 0.3809028\ttotal: 1.43s\tremaining: 328ms\n",
      "122:\tlearn: 0.3808496\ttotal: 1.44s\tremaining: 317ms\n",
      "123:\tlearn: 0.3807848\ttotal: 1.46s\tremaining: 305ms\n",
      "124:\tlearn: 0.3806697\ttotal: 1.47s\tremaining: 294ms\n",
      "125:\tlearn: 0.3804753\ttotal: 1.48s\tremaining: 282ms\n",
      "126:\tlearn: 0.3803091\ttotal: 1.5s\tremaining: 271ms\n",
      "127:\tlearn: 0.3797526\ttotal: 1.51s\tremaining: 260ms\n",
      "128:\tlearn: 0.3796623\ttotal: 1.52s\tremaining: 248ms\n",
      "129:\tlearn: 0.3795500\ttotal: 1.54s\tremaining: 236ms\n",
      "130:\tlearn: 0.3795303\ttotal: 1.55s\tremaining: 225ms\n",
      "131:\tlearn: 0.3792256\ttotal: 1.56s\tremaining: 213ms\n",
      "132:\tlearn: 0.3791989\ttotal: 1.57s\tremaining: 201ms\n",
      "133:\tlearn: 0.3791014\ttotal: 1.58s\tremaining: 189ms\n",
      "134:\tlearn: 0.3790800\ttotal: 1.59s\tremaining: 177ms\n",
      "135:\tlearn: 0.3790599\ttotal: 1.61s\tremaining: 165ms\n",
      "136:\tlearn: 0.3789665\ttotal: 1.62s\tremaining: 154ms\n",
      "137:\tlearn: 0.3789587\ttotal: 1.63s\tremaining: 142ms\n",
      "138:\tlearn: 0.3788963\ttotal: 1.64s\tremaining: 130ms\n",
      "139:\tlearn: 0.3787864\ttotal: 1.65s\tremaining: 118ms\n",
      "140:\tlearn: 0.3787344\ttotal: 1.66s\tremaining: 106ms\n",
      "141:\tlearn: 0.3787137\ttotal: 1.68s\tremaining: 94.5ms\n",
      "142:\tlearn: 0.3786955\ttotal: 1.69s\tremaining: 82.6ms\n",
      "143:\tlearn: 0.3786146\ttotal: 1.7s\tremaining: 70.8ms\n",
      "144:\tlearn: 0.3782201\ttotal: 1.71s\tremaining: 59.1ms\n",
      "145:\tlearn: 0.3777925\ttotal: 1.73s\tremaining: 47.3ms\n",
      "146:\tlearn: 0.3776167\ttotal: 1.74s\tremaining: 35.5ms\n",
      "147:\tlearn: 0.3773429\ttotal: 1.75s\tremaining: 23.7ms\n",
      "148:\tlearn: 0.3773226\ttotal: 1.76s\tremaining: 11.8ms\n",
      "149:\tlearn: 0.3772256\ttotal: 1.77s\tremaining: 0us\n"
     ]
    },
    {
     "data": {
      "text/plain": [
       "<catboost.core.CatBoostClassifier at 0x19385a950f0>"
      ]
     },
     "execution_count": 488,
     "metadata": {},
     "output_type": "execute_result"
    }
   ],
   "source": [
    "model = CatBoostClassifier(iterations=None, learning_rate=None, num_trees=150, custom_metric=None)\n",
    "\n",
    "model.fit(data[num_cols+cat_cols],\n",
    "          data[target_col],\n",
    "          cat_features=cat_cols,\n",
    "          logging_level='Verbose'\n",
    ")"
   ]
  },
  {
   "cell_type": "code",
   "execution_count": 489,
   "metadata": {},
   "outputs": [],
   "source": [
    "X_test = pd.read_csv('kaggle_data/test.csv')\n",
    "submission = pd.read_csv('kaggle_data/submission.csv')\n",
    "\n",
    "submission['Churn'] = model.predict_proba(X_test)[:, 1]\n",
    "submission['Churn'].to_csv('kaggle_data/my_submission.csv')"
   ]
  },
  {
   "cell_type": "code",
   "execution_count": null,
   "metadata": {},
   "outputs": [],
   "source": []
  },
  {
   "cell_type": "markdown",
   "metadata": {
    "id": "mkxjbGkVEEZc"
   },
   "source": [
    "# Kaggle (5 баллов)\n",
    "\n",
    "Как выставить баллы:\n",
    "\n",
    "1) 1 >= roc auc > 0.84 это 5 баллов\n",
    "\n",
    "2) 0.84 >= roc auc > 0.7 это 3 балла\n",
    "\n",
    "3) 0.7 >= roc auc > 0.6 это 1 балл\n",
    "\n",
    "4) 0.6 >= roc auc это 0 баллов\n",
    "\n",
    "\n",
    "Для выполнения задания необходимо выполнить следующие шаги.\n",
    "* Зарегистрироваться на платформе [kaggle.com](kaggle.com). Процесс выставления оценок будет проходить при подведении итогового рейтинга. Пожалуйста, укажите во вкладке Team -> Team name свои имя и фамилию в формате Имя_Фамилия (важно, чтобы имя и фамилия совпадали с данными на Stepik).\n",
    "* Обучить модель, получить файл с ответами в формате .csv и сдать его в конкурс. Пробуйте и экспериментируйте. Обратите внимание, что вы можете выполнять до 20 попыток сдачи на kaggle в день.\n",
    "* После окончания соревнования отправить в итоговый ноутбук с решением на степик. \n",
    "* После дедлайна проверьте посылки других участников по критериям. Для этого надо зайти на степик, скачать их ноутбук и проверить скор в соревновании."
   ]
  }
 ],
 "metadata": {
  "colab": {
   "collapsed_sections": [],
   "provenance": [
    {
     "file_id": "1PO5ffKlghuzdzQwXMm1PpLP1J2bVX9n1",
     "timestamp": 1666005590377
    }
   ]
  },
  "kernelspec": {
   "display_name": "Python 3 (ipykernel)",
   "language": "python",
   "name": "python3"
  },
  "language_info": {
   "codemirror_mode": {
    "name": "ipython",
    "version": 3
   },
   "file_extension": ".py",
   "mimetype": "text/x-python",
   "name": "python",
   "nbconvert_exporter": "python",
   "pygments_lexer": "ipython3",
   "version": "3.10.5"
  }
 },
 "nbformat": 4,
 "nbformat_minor": 1
}
